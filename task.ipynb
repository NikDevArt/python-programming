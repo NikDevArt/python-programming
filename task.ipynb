{
 "cells": [
  {
   "cell_type": "markdown",
   "metadata": {},
   "source": [
    "# Задание"
   ]
  },
  {
   "cell_type": "code",
   "execution_count": 15,
   "metadata": {},
   "outputs": [],
   "source": [
    "class Operation:\n",
    "    def __init__(self, operation_name, amount):\n",
    "        self.__operation_name = operation_name\n",
    "        self.__amount = amount\n",
    "\n",
    "    @property\n",
    "    def operation_name(self):\n",
    "        return self.__operation_name\n",
    "\n",
    "    @property\n",
    "    def amount(self):\n",
    "        return self.__amount\n",
    "\n",
    "class Account:\n",
    "    def __init__(self, name, start_balance):\n",
    "        self.__name = name\n",
    "        self.__balance = start_balance\n",
    "        self.__operations_history = []\n",
    "\n",
    "    @property\n",
    "    def name(self):\n",
    "        return self.__name\n",
    "    \n",
    "    @property\n",
    "    def balance(self):\n",
    "        return self.__balance\n",
    "\n",
    "    def put_money(self, amount):\n",
    "        self.__operations_history.append(Operation(\"put\", amount))\n",
    "        self.__balance += amount\n",
    "\n",
    "    def take_money(self, amount):\n",
    "        take_money = amount\n",
    "        if(self.__balance < take_money):\n",
    "            take_money = self.__balance\n",
    "        self.__balance -= amount\n",
    "        self.__operations_history.append(Operation(\"take\", take_money))\n",
    "    \n",
    "    def print_history(self):\n",
    "        for operation in self.__operations_history:\n",
    "            print(operation.operation_name, operation.amount)"
   ]
  },
  {
   "cell_type": "code",
   "execution_count": 17,
   "metadata": {},
   "outputs": [
    {
     "name": "stdout",
     "output_type": "stream",
     "text": [
      "account name: first\n",
      "put 10\n",
      "take 12\n",
      "put 20\n",
      "take 2\n",
      "current balance: 26\n"
     ]
    }
   ],
   "source": [
    "account = Account('first', 10)\n",
    "\n",
    "print(\"account name:\", account.name)\n",
    "\n",
    "account.put_money(10)\n",
    "account.take_money(12)\n",
    "\n",
    "account.put_money(20)\n",
    "account.take_money(2)\n",
    "\n",
    "account.print_history()\n",
    "print(\"current balance:\", account.balance)"
   ]
  }
 ],
 "metadata": {
  "kernelspec": {
   "display_name": "base",
   "language": "python",
   "name": "python3"
  },
  "language_info": {
   "codemirror_mode": {
    "name": "ipython",
    "version": 3
   },
   "file_extension": ".py",
   "mimetype": "text/x-python",
   "name": "python",
   "nbconvert_exporter": "python",
   "pygments_lexer": "ipython3",
   "version": "3.12.7"
  }
 },
 "nbformat": 4,
 "nbformat_minor": 2
}
