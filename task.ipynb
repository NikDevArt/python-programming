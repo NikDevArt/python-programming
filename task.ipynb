{
 "cells": [
  {
   "cell_type": "markdown",
   "metadata": {},
   "source": [
    "# Задание 1"
   ]
  },
  {
   "cell_type": "code",
   "execution_count": 72,
   "metadata": {},
   "outputs": [
    {
     "name": "stdout",
     "output_type": "stream",
     "text": [
      "sunt aut facere repellat provident occaecati excepturi optio reprehenderit\n",
      "qui est esse\n",
      "ea molestias quasi exercitationem repellat qui ipsa sit aut\n",
      "eum et est occaecati\n",
      "nesciunt quas odio\n"
     ]
    }
   ],
   "source": [
    "import requests\n",
    "\n",
    "response = requests.get(\"https://jsonplaceholder.typicode.com/posts\")\n",
    "data = response.json()\n",
    "for i in range(0, 5):\n",
    "    print(data[i][\"title\"], end = \"\\n\")\n"
   ]
  },
  {
   "cell_type": "markdown",
   "metadata": {},
   "source": [
    "# Задание 2"
   ]
  },
  {
   "cell_type": "code",
   "execution_count": 71,
   "metadata": {},
   "outputs": [
    {
     "name": "stdout",
     "output_type": "stream",
     "text": [
      "temp: 277.97, description: overcast clouds\n"
     ]
    }
   ],
   "source": [
    "city = input()\n",
    "api_key = input()\n",
    "url = f'http://api.openweathermap.org/geo/1.0/direct?q={city}&appid={api_key}'\n",
    "city_response = requests.get(url)\n",
    "data = city_response.json()\n",
    "\n",
    "lat = data[0][\"lat\"]\n",
    "lon = data[0][\"lon\"]\n",
    "\n",
    "weather_url = f'https://api.openweathermap.org/data/2.5/weather?lat={lat}&lon={lon}&appid={api_key}'\n",
    "weather_response = requests.get(weather_url)\n",
    "data = weather_response.json()\n",
    "print(f'temp: {data[\"main\"][\"temp\"]}, description: {data[\"weather\"][0][\"description\"]}')"
   ]
  }
 ],
 "metadata": {
  "kernelspec": {
   "display_name": "base",
   "language": "python",
   "name": "python3"
  },
  "language_info": {
   "codemirror_mode": {
    "name": "ipython",
    "version": 3
   },
   "file_extension": ".py",
   "mimetype": "text/x-python",
   "name": "python",
   "nbconvert_exporter": "python",
   "pygments_lexer": "ipython3",
   "version": "3.12.7"
  }
 },
 "nbformat": 4,
 "nbformat_minor": 2
}
