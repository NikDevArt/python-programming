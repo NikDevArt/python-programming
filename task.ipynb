{
 "cells": [
  {
   "cell_type": "markdown",
   "metadata": {},
   "source": [
    "# Часть 1"
   ]
  },
  {
   "cell_type": "markdown",
   "metadata": {},
   "source": [
    "1) Извлечем zip архив"
   ]
  },
  {
   "cell_type": "code",
   "execution_count": 31,
   "metadata": {},
   "outputs": [],
   "source": [
    "import zipfile\n",
    "\n",
    "def extract_encrypted_zip(zip_file_path, password, destination_path):\n",
    "    try:\n",
    "        with zipfile.ZipFile(zip_file_path) as zip_file:\n",
    "            zip_file.setpassword(bytes(password, 'utf-8'))\n",
    "            zip_file.extractall(path=destination_path)\n",
    "            print(\"Файлы успешно извлечены\")\n",
    "    except:\n",
    "        print(f\"Error: Произошла ошибка во время извлечения файла\")"
   ]
  },
  {
   "cell_type": "code",
   "execution_count": 32,
   "metadata": {},
   "outputs": [
    {
     "name": "stdout",
     "output_type": "stream",
     "text": [
      "Файлы успешно извлечены\n"
     ]
    }
   ],
   "source": [
    "zip_file_path = 'protected_archive.zip'\n",
    "file_name = 'invoice-42369643.html'\n",
    "destination_path = 'extracted_files/'\n",
    "password = 'netology'\n",
    "extract_encrypted_zip(zip_file_path, password, destination_path)"
   ]
  },
  {
   "cell_type": "markdown",
   "metadata": {},
   "source": [
    "2) Отправим файл в VirusTotal"
   ]
  },
  {
   "cell_type": "code",
   "execution_count": 3,
   "metadata": {},
   "outputs": [],
   "source": [
    "api_key = input()"
   ]
  },
  {
   "cell_type": "code",
   "execution_count": 4,
   "metadata": {},
   "outputs": [],
   "source": [
    "import requests\n",
    "\n",
    "def send_to_virus_total(file_path):\n",
    "    api_url = \"https://www.virustotal.com/api/v3/files\"\n",
    "    headers = {\"x-apikey\" : api_key}\n",
    "    with open(file_path, \"rb\") as file:\n",
    "        files = {\"file\": (file_path, file)}\n",
    "        response = requests.post(api_url, headers=headers, files=files)\n",
    "        return response.json()"
   ]
  },
  {
   "cell_type": "code",
   "execution_count": 5,
   "metadata": {},
   "outputs": [],
   "source": [
    "file_path = 'extracted_files/invoice-42369643.html'\n",
    "vt_response = send_to_virus_total(file_path)\n",
    "analysis_id = vt_response['data']['id']"
   ]
  },
  {
   "cell_type": "markdown",
   "metadata": {},
   "source": [
    "3) Посмотрим на детальный анализ данного файла"
   ]
  },
  {
   "cell_type": "code",
   "execution_count": 33,
   "metadata": {},
   "outputs": [],
   "source": [
    "import time\n",
    "def get_analysis_info(analysis_id):\n",
    "    headers = {\"x-apikey\" : api_key}\n",
    "    url_analysis_details = f'https://www.virustotal.com/api/v3/analyses/{analysis_id}'\n",
    "    response_analysis = requests.get(url_analysis_details, headers=headers)\n",
    "    time.sleep(30)\n",
    "    if response_analysis.status_code == 200:\n",
    "        analysis_details = response_analysis.json()\n",
    "        return analysis_details\n",
    "    else:\n",
    "        print('Ошибка при получении деталей анализа:', response_analysis.text)\n",
    "        return \"\"\n",
    "analysis_info = get_analysis_info(analysis_id)"
   ]
  },
  {
   "cell_type": "markdown",
   "metadata": {},
   "source": [
    "4) Выведем список угроз, которые мы обнаружили"
   ]
  },
  {
   "cell_type": "code",
   "execution_count": 34,
   "metadata": {},
   "outputs": [
    {
     "name": "stdout",
     "output_type": "stream",
     "text": [
      "Detected:\n",
      "Lionic Trojan.Script.Obfuse.4!c\n",
      "MicroWorld-eScan Trojan.Generic.37575014\n",
      "CTX txt.trojan.obfuse\n",
      "ALYac Trojan.Generic.37575014\n",
      "Symantec Trojan.Gen.MBT\n",
      "ESET-NOD32 VBA/TrojanDropper.Agent.AXB\n",
      "Kaspersky UDS:DangerousObject.Multi.Generic\n",
      "Arcabit Trojan.Generic.D23D5966\n",
      "Emsisoft Trojan.Generic.37575014 (B)\n",
      "DrWeb X97M.DownLoader.459\n",
      "VIPRE Trojan.Generic.37575014\n",
      "FireEye Trojan.Generic.37575014\n",
      "Kingsoft Win32.Infected.AutoInfector.a\n",
      "Microsoft Trojan:O97M/Obfuse.CP\n",
      "ViRobot HTML.Z.Agent.48950\n",
      "GData Trojan.Generic.37575014\n",
      "Google Detected\n",
      "Ikarus Trojan-Dropper.VBA.Agent\n",
      "Fortinet VBA/Agent.BCF0!tr\n",
      "alibabacloud Trojan[dropper]:MSOffice/Obfuse.CX\n"
     ]
    }
   ],
   "source": [
    "print(\"Detected:\")\n",
    "for values in analysis_info['data']['attributes']['results'].values():\n",
    "    if 'category' in values and values['category'] == 'malicious':\n",
    "        print(values['engine_name'], values['result'])"
   ]
  },
  {
   "cell_type": "markdown",
   "metadata": {},
   "source": [
    "# Часть 2"
   ]
  },
  {
   "cell_type": "markdown",
   "metadata": {},
   "source": [
    "1) Десериализуем данный json"
   ]
  },
  {
   "cell_type": "code",
   "execution_count": 35,
   "metadata": {},
   "outputs": [],
   "source": [
    "import json\n",
    "\n",
    "json_data = '''\n",
    "[\n",
    "    {\n",
    "        \"Program\": \"LibreOffice\",\n",
    "        \"Version\": \"6.0.7\"\n",
    "    },\n",
    "    {\n",
    "        \"Program\": \"7zip\",\n",
    "        \"Version\": \"18.05\"\n",
    "    },\n",
    "    {\n",
    "        \"Program\": \"Adobe Reader\",\n",
    "        \"Version\": \"2018.011.20035\"\n",
    "    },\n",
    "    {\n",
    "        \"Program\": \"nginx\",\n",
    "        \"Version\": \"1.14.0\"\n",
    "    },\n",
    "    {\n",
    "        \"Program\": \"Apache HTTP Server\",\n",
    "        \"Version\": \"2.4.29\"\n",
    "    },\n",
    "    {\n",
    "        \"Program\": \"DjVu Reader\",\n",
    "        \"Version\": \"2.0.0.27\"\n",
    "    },\n",
    "    {\n",
    "        \"Program\": \"Wireshark\",\n",
    "        \"Version\": \"2.6.1\"\n",
    "    },\n",
    "    {\n",
    "        \"Program\": \"Notepad++\",\n",
    "        \"Version\": \"7.5.6\"\n",
    "    },\n",
    "    {\n",
    "        \"Program\": \"Google Chrome\",\n",
    "        \"Version\": \"68.0.3440.106\"\n",
    "    },\n",
    "    {\n",
    "        \"Program\": \"Mozilla Firefox\",\n",
    "        \"Version\": \"61.0.1\"\n",
    "    }\n",
    "]\n",
    "'''\n",
    "\n",
    "data = json.loads(json_data)"
   ]
  },
  {
   "cell_type": "code",
   "execution_count": 36,
   "metadata": {},
   "outputs": [],
   "source": [
    "vulners_api_key = input()"
   ]
  },
  {
   "cell_type": "markdown",
   "metadata": {},
   "source": [
    "2) Получим список уязвимостей ПО, используя API Vulners"
   ]
  },
  {
   "cell_type": "code",
   "execution_count": null,
   "metadata": {},
   "outputs": [],
   "source": [
    "import vulners\n",
    "\n",
    "vulners_api = vulners.Vulners(api_key=vulners_api_key)\n",
    "\n",
    "program_version = []\n",
    "for element in data:\n",
    "    program_version.append({\n",
    "        \"product\": element['Program'],\n",
    "        \"version\": element['Version']\n",
    "    })\n",
    "\n",
    "response = vulners_api.audit_software(\n",
    "    software=program_version,\n",
    "    fields=[\"title\", \"short_description\"],\n",
    "    match='partial'\n",
    ")\n",
    "\n",
    "response"
   ]
  },
  {
   "cell_type": "markdown",
   "metadata": {},
   "source": [
    "3) Получим список ПО-уязвимости"
   ]
  },
  {
   "cell_type": "code",
   "execution_count": 42,
   "metadata": {},
   "outputs": [
    {
     "name": "stdout",
     "output_type": "stream",
     "text": [
      "Name: Adobe Reader, cve amount:0\n",
      "Name: LibreOffice, cve amount:8\n",
      "Name: Wireshark, cve amount:52\n",
      "Name: Apache HTTP Server, cve amount:76\n",
      "Name: Notepad++, cve amount:0\n",
      "Name: nginx, cve amount:24\n",
      "Name: Mozilla Firefox, cve amount:1144\n",
      "Name: Google Chrome, cve amount:2867\n"
     ]
    }
   ],
   "source": [
    "for item in response:\n",
    "    print(f\"Name: {item['input']['product']}, cve amount:{len(item['vulnerabilities'])}\")"
   ]
  },
  {
   "cell_type": "code",
   "execution_count": null,
   "metadata": {},
   "outputs": [],
   "source": [
    "for item in response:\n",
    "    print(f\"Name: {item['input']['product']}, cve amount:{len(item['vulnerabilities'])}\")\n",
    "    for vuln in item['vulnerabilities']:\n",
    "        print(vuln['id'])"
   ]
  }
 ],
 "metadata": {
  "kernelspec": {
   "display_name": "base",
   "language": "python",
   "name": "python3"
  },
  "language_info": {
   "codemirror_mode": {
    "name": "ipython",
    "version": 3
   },
   "file_extension": ".py",
   "mimetype": "text/x-python",
   "name": "python",
   "nbconvert_exporter": "python",
   "pygments_lexer": "ipython3",
   "version": "3.12.7"
  }
 },
 "nbformat": 4,
 "nbformat_minor": 2
}
